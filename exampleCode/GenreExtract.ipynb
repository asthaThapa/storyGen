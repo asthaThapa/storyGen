{
 "cells": [
  {
   "cell_type": "markdown",
   "metadata": {},
   "source": [
    "# Install, import and loading dataset"
   ]
  },
  {
   "cell_type": "code",
   "execution_count": 1,
   "metadata": {},
   "outputs": [],
   "source": [
    "#!pip3 install textstat\n",
    "#!pip3 install -U pip setuptools wheel\n",
    "#!pip3 install -U spacy\n",
    "#!python3 -m spacy download en_core_web_sm\n",
    "#!python3 -m spacy download en_core_web_lg\n",
    "#!pip install langdetect -- this required too"
   ]
  },
  {
   "cell_type": "code",
   "execution_count": 2,
   "metadata": {},
   "outputs": [],
   "source": [
    "%matplotlib inline\n",
    "import matplotlib\n",
    "import matplotlib.pyplot as plt\n",
    "import numpy as np\n",
    "import pandas as pd\n",
    "from tqdm import tqdm\n",
    "tqdm.pandas()\n",
    "import spacy\n",
    "nlp = spacy.load('en_core_web_lg')\n",
    "from spacy.lang.en.stop_words import STOP_WORDS\n",
    "from sklearn.feature_extraction.text import TfidfVectorizer\n",
    "nlp_sm = spacy.load('en_core_web_sm')\n",
    "import textstat as ts\n",
    "vocab = list(nlp_sm.vocab.strings)\n",
    "import seaborn as sns\n",
    "import gc\n",
    "import re\n",
    "from langdetect import detect\n",
    "from langdetect import detect_langs"
   ]
  },
  {
   "cell_type": "markdown",
   "metadata": {},
   "source": [
    "Read the csv as a dataframe using pandas"
   ]
  },
  {
   "cell_type": "code",
   "execution_count": 3,
   "metadata": {},
   "outputs": [
    {
     "data": {
      "text/html": [
       "<div>\n",
       "<style scoped>\n",
       "    .dataframe tbody tr th:only-of-type {\n",
       "        vertical-align: middle;\n",
       "    }\n",
       "\n",
       "    .dataframe tbody tr th {\n",
       "        vertical-align: top;\n",
       "    }\n",
       "\n",
       "    .dataframe thead th {\n",
       "        text-align: right;\n",
       "    }\n",
       "</style>\n",
       "<table border=\"1\" class=\"dataframe\">\n",
       "  <thead>\n",
       "    <tr style=\"text-align: right;\">\n",
       "      <th></th>\n",
       "      <th>title</th>\n",
       "      <th>text</th>\n",
       "      <th>genres</th>\n",
       "    </tr>\n",
       "  </thead>\n",
       "  <tbody>\n",
       "    <tr>\n",
       "      <th>0</th>\n",
       "      <td>apocolocyntosis</td>\n",
       "      <td>Produced by Ted Garvin, Ben Courtney and PG Di...</td>\n",
       "      <td>{'21st-century', 'history', 'roman', 'classics...</td>\n",
       "    </tr>\n",
       "    <tr>\n",
       "      <th>1</th>\n",
       "      <td>the house on the borderland</td>\n",
       "      <td>Produced by Suzanne Shell, Sjaani and PG Distr...</td>\n",
       "      <td>{'horror', 'mystery', 'classics', 'science-fic...</td>\n",
       "    </tr>\n",
       "    <tr>\n",
       "      <th>2</th>\n",
       "      <td>the warriors</td>\n",
       "      <td>Produced by Charles Aldarondo, Charlie Kirschn...</td>\n",
       "      <td>{'literary-fiction', 'history', 'biography', '...</td>\n",
       "    </tr>\n",
       "    <tr>\n",
       "      <th>3</th>\n",
       "      <td>a voyage to the moon</td>\n",
       "      <td>Produced by Christine De Ryck, Stig M. Valstad...</td>\n",
       "      <td>{'20th-century', 'science-fiction', 'speculati...</td>\n",
       "    </tr>\n",
       "    <tr>\n",
       "      <th>4</th>\n",
       "      <td>la fiammetta</td>\n",
       "      <td>Produced by Ted Garvin, Dave Morgan and PG Dis...</td>\n",
       "      <td>{'literary-fiction', 'history', 'feminism', 'c...</td>\n",
       "    </tr>\n",
       "  </tbody>\n",
       "</table>\n",
       "</div>"
      ],
      "text/plain": [
       "                         title  \\\n",
       "0              apocolocyntosis   \n",
       "1  the house on the borderland   \n",
       "2                 the warriors   \n",
       "3         a voyage to the moon   \n",
       "4                 la fiammetta   \n",
       "\n",
       "                                                text  \\\n",
       "0  Produced by Ted Garvin, Ben Courtney and PG Di...   \n",
       "1  Produced by Suzanne Shell, Sjaani and PG Distr...   \n",
       "2  Produced by Charles Aldarondo, Charlie Kirschn...   \n",
       "3  Produced by Christine De Ryck, Stig M. Valstad...   \n",
       "4  Produced by Ted Garvin, Dave Morgan and PG Dis...   \n",
       "\n",
       "                                              genres  \n",
       "0  {'21st-century', 'history', 'roman', 'classics...  \n",
       "1  {'horror', 'mystery', 'classics', 'science-fic...  \n",
       "2  {'literary-fiction', 'history', 'biography', '...  \n",
       "3  {'20th-century', 'science-fiction', 'speculati...  \n",
       "4  {'literary-fiction', 'history', 'feminism', 'c...  "
      ]
     },
     "execution_count": 3,
     "metadata": {},
     "output_type": "execute_result"
    }
   ],
   "source": [
    "df = pd.read_csv('books_and_genres.csv', index_col=0)\n",
    "df.head()"
   ]
  },
  {
   "cell_type": "markdown",
   "metadata": {},
   "source": [
    "# Preprocessing"
   ]
  },
  {
   "cell_type": "markdown",
   "metadata": {},
   "source": [
    "## Reformatting dataset\n",
    "* Drop any columns or values that is not required\n",
    "* Note: spaCy can only allocate enough RAM for this many chars in a doc"
   ]
  },
  {
   "cell_type": "code",
   "execution_count": 4,
   "metadata": {},
   "outputs": [],
   "source": [
    "df['text'] = df['text'].astype(str)\n",
    "df['text_len'] = df.text.apply(len)"
   ]
  },
  {
   "cell_type": "code",
   "execution_count": 5,
   "metadata": {},
   "outputs": [],
   "source": [
    "df.drop(df[df.text_len < 1000].index, inplace=True)\n",
    "df.drop('text_len', axis=1, inplace=True)\n",
    "max_char = 1000000 # spaCy can only allocate enough RAM for this many chars in a doc\n",
    "df.text = df.text.apply(lambda t:t[:max_char])"
   ]
  },
  {
   "cell_type": "markdown",
   "metadata": {},
   "source": [
    "* To display values, use .head()"
   ]
  },
  {
   "cell_type": "code",
   "execution_count": 6,
   "metadata": {},
   "outputs": [
    {
     "data": {
      "text/html": [
       "<div>\n",
       "<style scoped>\n",
       "    .dataframe tbody tr th:only-of-type {\n",
       "        vertical-align: middle;\n",
       "    }\n",
       "\n",
       "    .dataframe tbody tr th {\n",
       "        vertical-align: top;\n",
       "    }\n",
       "\n",
       "    .dataframe thead th {\n",
       "        text-align: right;\n",
       "    }\n",
       "</style>\n",
       "<table border=\"1\" class=\"dataframe\">\n",
       "  <thead>\n",
       "    <tr style=\"text-align: right;\">\n",
       "      <th></th>\n",
       "      <th>index</th>\n",
       "      <th>title</th>\n",
       "      <th>text</th>\n",
       "      <th>genres</th>\n",
       "    </tr>\n",
       "  </thead>\n",
       "  <tbody>\n",
       "    <tr>\n",
       "      <th>0</th>\n",
       "      <td>0</td>\n",
       "      <td>apocolocyntosis</td>\n",
       "      <td>Produced by Ted Garvin, Ben Courtney and PG Di...</td>\n",
       "      <td>{'21st-century', 'history', 'roman', 'classics...</td>\n",
       "    </tr>\n",
       "    <tr>\n",
       "      <th>1</th>\n",
       "      <td>1</td>\n",
       "      <td>the house on the borderland</td>\n",
       "      <td>Produced by Suzanne Shell, Sjaani and PG Distr...</td>\n",
       "      <td>{'horror', 'mystery', 'classics', 'science-fic...</td>\n",
       "    </tr>\n",
       "    <tr>\n",
       "      <th>2</th>\n",
       "      <td>2</td>\n",
       "      <td>the warriors</td>\n",
       "      <td>Produced by Charles Aldarondo, Charlie Kirschn...</td>\n",
       "      <td>{'literary-fiction', 'history', 'biography', '...</td>\n",
       "    </tr>\n",
       "    <tr>\n",
       "      <th>3</th>\n",
       "      <td>3</td>\n",
       "      <td>a voyage to the moon</td>\n",
       "      <td>Produced by Christine De Ryck, Stig M. Valstad...</td>\n",
       "      <td>{'20th-century', 'science-fiction', 'speculati...</td>\n",
       "    </tr>\n",
       "    <tr>\n",
       "      <th>4</th>\n",
       "      <td>4</td>\n",
       "      <td>la fiammetta</td>\n",
       "      <td>Produced by Ted Garvin, Dave Morgan and PG Dis...</td>\n",
       "      <td>{'literary-fiction', 'history', 'feminism', 'c...</td>\n",
       "    </tr>\n",
       "  </tbody>\n",
       "</table>\n",
       "</div>"
      ],
      "text/plain": [
       "   index                        title  \\\n",
       "0      0              apocolocyntosis   \n",
       "1      1  the house on the borderland   \n",
       "2      2                 the warriors   \n",
       "3      3         a voyage to the moon   \n",
       "4      4                 la fiammetta   \n",
       "\n",
       "                                                text  \\\n",
       "0  Produced by Ted Garvin, Ben Courtney and PG Di...   \n",
       "1  Produced by Suzanne Shell, Sjaani and PG Distr...   \n",
       "2  Produced by Charles Aldarondo, Charlie Kirschn...   \n",
       "3  Produced by Christine De Ryck, Stig M. Valstad...   \n",
       "4  Produced by Ted Garvin, Dave Morgan and PG Dis...   \n",
       "\n",
       "                                              genres  \n",
       "0  {'21st-century', 'history', 'roman', 'classics...  \n",
       "1  {'horror', 'mystery', 'classics', 'science-fic...  \n",
       "2  {'literary-fiction', 'history', 'biography', '...  \n",
       "3  {'20th-century', 'science-fiction', 'speculati...  \n",
       "4  {'literary-fiction', 'history', 'feminism', 'c...  "
      ]
     },
     "execution_count": 6,
     "metadata": {},
     "output_type": "execute_result"
    }
   ],
   "source": [
    "df = df.reset_index()\n",
    "df.head()"
   ]
  },
  {
   "cell_type": "markdown",
   "metadata": {},
   "source": [
    "## Remove any dataset that is for Non-English Language"
   ]
  },
  {
   "cell_type": "code",
   "execution_count": 7,
   "metadata": {},
   "outputs": [
    {
     "name": "stdout",
     "output_type": "stream",
     "text": [
      "10315\n"
     ]
    }
   ],
   "source": [
    "before_filter = len(df)\n",
    "print(before_filter)"
   ]
  },
  {
   "cell_type": "code",
   "execution_count": 8,
   "metadata": {},
   "outputs": [
    {
     "name": "stdout",
     "output_type": "stream",
     "text": [
      "1267 non-English Books removed\n"
     ]
    }
   ],
   "source": [
    "df['lang'] = df.text.apply(detect)\n",
    "df.drop(df[df.lang != 'en'].index, inplace=True)\n",
    "\n",
    "print(f'{before_filter - len(df)} non-English Books removed')"
   ]
  },
  {
   "cell_type": "markdown",
   "metadata": {},
   "source": [
    "# Getting Genres Categories from the dataset"
   ]
  },
  {
   "cell_type": "code",
   "execution_count": 9,
   "metadata": {},
   "outputs": [],
   "source": [
    "def reformatGenres(genres):\n",
    "    l_genres = list(filter(None, re.split(r\"[\\{\\}\\,\\s\\']\", genres)))\n",
    "    # Combine history and historical tags since they refer to the same genre\n",
    "    r_genres = list({e if e!='history' else 'historical' for e in l_genres})\n",
    "    return r_genres"
   ]
  },
  {
   "cell_type": "code",
   "execution_count": 10,
   "metadata": {},
   "outputs": [],
   "source": [
    "#Getting all the values from the genres column, so that it can be passed into the reformatGenres function\n",
    "# What we are trying to do here is, get all the possible genre the dataset might have\n",
    "# Also, the above line categorizes history and historical data as one\n",
    "df.genres = df.loc[:, 'genres'].apply(reformatGenres)"
   ]
  },
  {
   "cell_type": "code",
   "execution_count": 11,
   "metadata": {},
   "outputs": [],
   "source": [
    "genres = [g for r in df.genres for g in r]"
   ]
  },
  {
   "cell_type": "code",
   "execution_count": 12,
   "metadata": {},
   "outputs": [
    {
     "name": "stdout",
     "output_type": "stream",
     "text": [
      "fiction               6244\n",
      "classics              4565\n",
      "historical            3360\n",
      "non-fiction           2656\n",
      "20th-century          2629\n",
      "                      ... \n",
      "romantic-suspense       58\n",
      "paranormal-romance      36\n",
      "vampires                27\n",
      "bdsm                    18\n",
      "manga                   17\n",
      "Name: count, Length: 99, dtype: int64\n"
     ]
    },
    {
     "data": {
      "image/png": "[encoded data removed]",
      "text/plain": [
       "<Figure size 1500x500 with 1 Axes>"
      ]
     },
     "metadata": {},
     "output_type": "display_data"
    }
   ],
   "source": [
    "\n",
    "#pd.Series is one dimensional labeled array and takes in any value such as an integer, string, floats \n",
    "# Here, the genres value - which are unique genre from the dataset is being passed into the Series and is being counted\n",
    "genres_counts = pd.Series(genres).value_counts()\n",
    "print(genres_counts)\n",
    "\n",
    "#plot is used for visualizing the data from series\n",
    "genres_counts.plot(figsize=(15,5), title='Genre total count in books dataset')\n",
    "plt.show()"
   ]
  },
  {
   "cell_type": "code",
   "execution_count": 13,
   "metadata": {},
   "outputs": [],
   "source": [
    "# popular_genres = [k for k, v in genres_counts.items() if v >= 1000]\n",
    "# print(f'{len(popular_genres)} genres have over 2000 counts in dataset.\\n\\nThey are:\\n\\n{popular_genres}')"
   ]
  },
  {
   "cell_type": "markdown",
   "metadata": {},
   "source": [
    "* Creating a new column called 'genre_count' and assigning the value of the lengths\n",
    "* Getting the dataFrame whose genre count is greater than 0\n",
    "* Dropping the genre count column"
   ]
  },
  {
   "cell_type": "code",
   "execution_count": 14,
   "metadata": {},
   "outputs": [],
   "source": [
    "popular_genres = ['fiction', 'classics', 'historical', 'fantasy', 'adventure']\n",
    "\n",
    "df.genres = df.genres.apply(lambda genres:[g for g in genres if g in popular_genres])\n",
    "df['genre_count'] = df.genres.apply(len)\n",
    "\n",
    "df = df[df.genre_count > 0]\n",
    "df.drop('genre_count', axis=1, inplace=True)\n"
   ]
  },
  {
   "cell_type": "code",
   "execution_count": 15,
   "metadata": {},
   "outputs": [
    {
     "name": "stdout",
     "output_type": "stream",
     "text": [
      "fiction       6244\n",
      "classics      4565\n",
      "historical    3360\n",
      "fantasy       1162\n",
      "adventure     1100\n",
      "Name: count, dtype: int64\n"
     ]
    }
   ],
   "source": [
    "genres = [g for r in df.genres for g in r]\n",
    "genres_counts = pd.Series(genres).value_counts()\n",
    "print(genres_counts)"
   ]
  },
  {
   "cell_type": "markdown",
   "metadata": {},
   "source": [
    "# Extract Stories and Genres"
   ]
  },
  {
   "cell_type": "code",
   "execution_count": 16,
   "metadata": {},
   "outputs": [
    {
     "data": {
      "text/html": [
       "<div>\n",
       "<style scoped>\n",
       "    .dataframe tbody tr th:only-of-type {\n",
       "        vertical-align: middle;\n",
       "    }\n",
       "\n",
       "    .dataframe tbody tr th {\n",
       "        vertical-align: top;\n",
       "    }\n",
       "\n",
       "    .dataframe thead th {\n",
       "        text-align: right;\n",
       "    }\n",
       "</style>\n",
       "<table border=\"1\" class=\"dataframe\">\n",
       "  <thead>\n",
       "    <tr style=\"text-align: right;\">\n",
       "      <th></th>\n",
       "      <th>title</th>\n",
       "      <th>text</th>\n",
       "      <th>genres</th>\n",
       "    </tr>\n",
       "  </thead>\n",
       "  <tbody>\n",
       "    <tr>\n",
       "      <th>0</th>\n",
       "      <td>apocolocyntosis</td>\n",
       "      <td>Produced by Ted Garvin, Ben Courtney and PG Di...</td>\n",
       "      <td>classics</td>\n",
       "    </tr>\n",
       "    <tr>\n",
       "      <th>1</th>\n",
       "      <td>the house on the borderland</td>\n",
       "      <td>Produced by Suzanne Shell, Sjaani and PG Distr...</td>\n",
       "      <td>classics</td>\n",
       "    </tr>\n",
       "    <tr>\n",
       "      <th>2</th>\n",
       "      <td>the warriors</td>\n",
       "      <td>Produced by Charles Aldarondo, Charlie Kirschn...</td>\n",
       "      <td>classics</td>\n",
       "    </tr>\n",
       "    <tr>\n",
       "      <th>4</th>\n",
       "      <td>la fiammetta</td>\n",
       "      <td>Produced by Ted Garvin, Dave Morgan and PG Dis...</td>\n",
       "      <td>classics</td>\n",
       "    </tr>\n",
       "    <tr>\n",
       "      <th>5</th>\n",
       "      <td>carmilla</td>\n",
       "      <td>Produced by Suzanne Shell, Sjaani and PG Distr...</td>\n",
       "      <td>classics</td>\n",
       "    </tr>\n",
       "  </tbody>\n",
       "</table>\n",
       "</div>"
      ],
      "text/plain": [
       "                         title  \\\n",
       "0              apocolocyntosis   \n",
       "1  the house on the borderland   \n",
       "2                 the warriors   \n",
       "4                 la fiammetta   \n",
       "5                     carmilla   \n",
       "\n",
       "                                                text    genres  \n",
       "0  Produced by Ted Garvin, Ben Courtney and PG Di...  classics  \n",
       "1  Produced by Suzanne Shell, Sjaani and PG Distr...  classics  \n",
       "2  Produced by Charles Aldarondo, Charlie Kirschn...  classics  \n",
       "4  Produced by Ted Garvin, Dave Morgan and PG Dis...  classics  \n",
       "5  Produced by Suzanne Shell, Sjaani and PG Distr...  classics  "
      ]
     },
     "execution_count": 16,
     "metadata": {},
     "output_type": "execute_result"
    }
   ],
   "source": [
    "# The plan is to make it more effective than this code. \n",
    "# Just for feasibility study -- removing other genres values \n",
    "\n",
    "df['genres'] = df['genres'].apply(lambda x: x[0])\n",
    "\n",
    "df = df.drop(['lang', 'index'], axis=1)\n",
    "\n",
    "df.head()\n"
   ]
  },
  {
   "cell_type": "code",
   "execution_count": null,
   "metadata": {},
   "outputs": [],
   "source": [
    "# saving the file\n",
    "df.to_csv('bookData.csv', index=False)"
   ]
  }
 ],
 "metadata": {
  "kernelspec": {
   "display_name": "Python 3",
   "language": "python",
   "name": "python3"
  },
  "language_info": {
   "codemirror_mode": {
    "name": "ipython",
    "version": 3
   },
   "file_extension": ".py",
   "mimetype": "text/x-python",
   "name": "python",
   "nbconvert_exporter": "python",
   "pygments_lexer": "ipython3",
   "version": "3.12.2"
  }
 },
 "nbformat": 4,
 "nbformat_minor": 2
}
