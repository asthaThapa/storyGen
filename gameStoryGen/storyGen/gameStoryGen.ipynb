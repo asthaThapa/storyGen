{
 "cells": [
  {
   "cell_type": "code",
   "execution_count": null,
   "metadata": {},
   "outputs": [],
   "source": [
    "import os\n",
    "import time\n",
    "import datetime\n",
    "\n",
    "import pandas as pd\n",
    "import seaborn as sns\n",
    "import numpy as np\n",
    "import random\n",
    "\n",
    "import matplotlib.pyplot as plt\n",
    "%matplotlib inline\n",
    "\n",
    "import torch\n",
    "from torch.utils.data import Dataset, DataLoader, random_split, RandomSampler, SequentialSampler\n",
    "torch.manual_seed(42)\n",
    "\n",
    "from transformers import GPT2LMHeadModel,  GPT2Tokenizer, GPT2Config, GPT2LMHeadModel\n",
    "from transformers import AdamW, get_linear_schedule_with_warmup\n",
    "\n",
    "import nltk\n",
    "nltk.download('punkt')"
   ]
  },
  {
   "cell_type": "code",
   "execution_count": null,
   "metadata": {},
   "outputs": [],
   "source": [
    "!nvidia-smi"
   ]
  },
  {
   "cell_type": "code",
   "execution_count": 40,
   "metadata": {},
   "outputs": [
    {
     "name": "stdout",
     "output_type": "stream",
     "text": [
      "5000\n"
     ]
    }
   ],
   "source": [
    "df = pd.read_csv ('../genre_Identfier/gameSynopsis_genre.csv')  \n",
    "df.dropna(inplace=True) #removing anything that has N/A as values\n",
    "df_subset = df.head(5000) #Can remove this later, there are 18686 rows but just taking 5k from it for testing purpose\n",
    "synopsis = df_subset.summary.copy()\n",
    "print(synopsis.count())"
   ]
  },
  {
   "cell_type": "code",
   "execution_count": 41,
   "metadata": {},
   "outputs": [
    {
     "name": "stderr",
     "output_type": "stream",
     "text": [
      "/var/folders/4v/wcwl8gtj5cv041_1rjy0fphc0000gn/T/ipykernel_1325/2774666547.py:9: UserWarning: \n",
      "\n",
      "`distplot` is a deprecated function and will be removed in seaborn v0.14.0.\n",
      "\n",
      "Please adapt your code to use either `displot` (a figure-level function with\n",
      "similar flexibility) or `histplot` (an axes-level function for histograms).\n",
      "\n",
      "For a guide to updating your code to use the new functions, please see\n",
      "https://gist.github.com/mwaskom/de44147ed2974457ad6372750bbe5751\n",
      "\n",
      "  sns.distplot(doc_lengths)\n"
     ]
    },
    {
     "data": {
      "text/plain": [
       "<Axes: ylabel='Density'>"
      ]
     },
     "execution_count": 41,
     "metadata": {},
     "output_type": "execute_result"
    },
    {
     "data": {
      "image/png": "[encoded data removed]",
      "text/plain": [
       "<Figure size 640x480 with 1 Axes>"
      ]
     },
     "metadata": {},
     "output_type": "display_data"
    }
   ],
   "source": [
    "doc_lengths = []\n",
    "\n",
    "for synop in synopsis:\n",
    "    tokens = nltk.word_tokenize(synop)\n",
    "    doc_lengths.append(len(tokens))\n",
    "\n",
    "doc_lengths = np.array(doc_lengths)\n",
    "\n",
    "sns.distplot(doc_lengths)"
   ]
  },
  {
   "cell_type": "code",
   "execution_count": 42,
   "metadata": {},
   "outputs": [
    {
     "data": {
      "text/plain": [
       "0.0"
      ]
     },
     "execution_count": 42,
     "metadata": {},
     "output_type": "execute_result"
    }
   ],
   "source": [
    "len(doc_lengths[doc_lengths > 768])/len(doc_lengths)"
   ]
  },
  {
   "cell_type": "code",
   "execution_count": 43,
   "metadata": {},
   "outputs": [
    {
     "data": {
      "text/plain": [
       "109.992"
      ]
     },
     "execution_count": 43,
     "metadata": {},
     "output_type": "execute_result"
    }
   ],
   "source": [
    "np.average(doc_lengths)"
   ]
  },
  {
   "cell_type": "code",
   "execution_count": 44,
   "metadata": {},
   "outputs": [],
   "source": [
    "tokenizer = GPT2Tokenizer.from_pretrained('gpt2', bos_token='<|startoftext|>', eos_token='<|endoftext|>', pad_token='<|pad|>') #gpt2-medium"
   ]
  },
  {
   "cell_type": "code",
   "execution_count": 45,
   "metadata": {},
   "outputs": [
    {
     "name": "stdout",
     "output_type": "stream",
     "text": [
      "The max model length is 1024 for this model, although the actual embedding size for GPT small is 768\n",
      "The beginning of sequence token <|startoftext|> token has the id 50257\n",
      "The end of sequence token <|endoftext|> has the id 50256\n",
      "The padding token <|pad|> has the id 50258\n"
     ]
    }
   ],
   "source": [
    "print(\"The max model length is {} for this model, although the actual embedding size for GPT small is 768\".format(tokenizer.model_max_length))\n",
    "print(\"The beginning of sequence token {} token has the id {}\".format(tokenizer.convert_ids_to_tokens(tokenizer.bos_token_id), tokenizer.bos_token_id))\n",
    "print(\"The end of sequence token {} has the id {}\".format(tokenizer.convert_ids_to_tokens(tokenizer.eos_token_id), tokenizer.eos_token_id))\n",
    "print(\"The padding token {} has the id {}\".format(tokenizer.convert_ids_to_tokens(tokenizer.pad_token_id), tokenizer.pad_token_id))"
   ]
  },
  {
   "cell_type": "code",
   "execution_count": 46,
   "metadata": {},
   "outputs": [],
   "source": [
    "batch_size = 2"
   ]
  },
  {
   "cell_type": "code",
   "execution_count": 48,
   "metadata": {},
   "outputs": [],
   "source": [
    "class GPT2Dataset(Dataset):\n",
    "\n",
    "  def __init__(self, txt_list, tokenizer, gpt2_type=\"gpt2\", max_length=768):\n",
    "\n",
    "    self.tokenizer = tokenizer\n",
    "    self.input_ids = []\n",
    "    self.attn_masks = []\n",
    "\n",
    "    for txt in txt_list:\n",
    "\n",
    "      encodings_dict = tokenizer('<|startoftext|>'+ txt + '<|endoftext|>', truncation=True, max_length=max_length, padding=\"max_length\")\n",
    "\n",
    "      self.input_ids.append(torch.tensor(encodings_dict['input_ids']))\n",
    "      self.attn_masks.append(torch.tensor(encodings_dict['attention_mask']))\n",
    "    \n",
    "  def __len__(self):\n",
    "    return len(self.input_ids)\n",
    "\n",
    "  def __getitem__(self, idx):\n",
    "    return self.input_ids[idx], self.attn_masks[idx] "
   ]
  },
  {
   "cell_type": "code",
   "execution_count": 49,
   "metadata": {},
   "outputs": [
    {
     "name": "stdout",
     "output_type": "stream",
     "text": [
      "4,500 training samples\n",
      "  500 validation samples\n"
     ]
    }
   ],
   "source": [
    "dataset = GPT2Dataset(synopsis, tokenizer, max_length=768)\n",
    "\n",
    "# Split into training and validation sets\n",
    "train_size = int(0.9 * len(dataset))\n",
    "val_size = len(dataset) - train_size\n",
    "\n",
    "train_dataset, val_dataset = random_split(dataset, [train_size, val_size])\n",
    "\n",
    "print('{:>5,} training samples'.format(train_size))\n",
    "print('{:>5,} validation samples'.format(val_size))"
   ]
  },
  {
   "cell_type": "code",
   "execution_count": 51,
   "metadata": {},
   "outputs": [],
   "source": [
    "# Create the DataLoaders for our training and validation datasets.\n",
    "# We'll take training samples in random order. \n",
    "train_dataloader = DataLoader(\n",
    "            train_dataset,  # The training samples.\n",
    "            sampler = RandomSampler(train_dataset), # Select batches randomly\n",
    "            batch_size = batch_size # Trains with this batch size.\n",
    "        )\n",
    "\n",
    "# For validation the order doesn't matter, so we'll just read them sequentially.\n",
    "validation_dataloader = DataLoader(\n",
    "            val_dataset, # The validation samples.\n",
    "            sampler = SequentialSampler(val_dataset), # Pull out batches sequentially.\n",
    "            batch_size = batch_size # Evaluate with this batch size.\n",
    "        )"
   ]
  },
  {
   "cell_type": "code",
   "execution_count": 52,
   "metadata": {},
   "outputs": [],
   "source": [
    "# I'm not really doing anything with the config buheret\n",
    "configuration = GPT2Config.from_pretrained('gpt2', output_hidden_states=False)\n",
    "\n",
    "# instantiate the model\n",
    "model = GPT2LMHeadModel.from_pretrained(\"gpt2\", config=configuration)\n",
    "\n",
    "# this step is necessary because I've added some tokens (bos_token, etc) to the embeddings\n",
    "# otherwise the tokenizer and model tensors won't match up\n",
    "model.resize_token_embeddings(len(tokenizer))\n",
    "\n",
    "# Tell pytorch to run this model on the GPU.\n",
    "\n",
    "if torch.backends.mps.is_available():\n",
    "    device = torch.device(\"mps\")\n",
    "else:\n",
    "    device = torch.device(\"cuda\" if torch.cuda.is_available() else \"cpu\")\n",
    "\n",
    "model.to(device)\n",
    "# Set the seed value all over the place to make this reproducible.\n",
    "seed_val = 42\n",
    "\n",
    "random.seed(seed_val)\n",
    "np.random.seed(seed_val)\n",
    "torch.manual_seed(seed_val)\n",
    "torch.cuda.manual_seed_all(seed_val)"
   ]
  },
  {
   "cell_type": "code",
   "execution_count": 53,
   "metadata": {},
   "outputs": [],
   "source": [
    "# some parameters I cooked up that work reasonably well\n",
    "\n",
    "epochs = 2 #for now, I will put this to 2, the previous was 5\n",
    "learning_rate = 5e-4\n",
    "warmup_steps = 1e2\n",
    "epsilon = 1e-8\n",
    "\n",
    "# this produces sample output every 100 steps\n",
    "sample_every = 100"
   ]
  },
  {
   "cell_type": "code",
   "execution_count": 54,
   "metadata": {},
   "outputs": [
    {
     "name": "stderr",
     "output_type": "stream",
     "text": [
      "/Library/Frameworks/Python.framework/Versions/3.12/lib/python3.12/site-packages/transformers/optimization.py:429: FutureWarning: This implementation of AdamW is deprecated and will be removed in a future version. Use the PyTorch implementation torch.optim.AdamW instead, or set `no_deprecation_warning=True` to disable this warning\n",
      "  warnings.warn(\n"
     ]
    }
   ],
   "source": [
    "# Note: AdamW is a class from the huggingface library (as opposed to pytorch) \n",
    "optimizer = AdamW(model.parameters(),\n",
    "                  lr = learning_rate,\n",
    "                  eps = epsilon\n",
    "                )"
   ]
  },
  {
   "cell_type": "code",
   "execution_count": 55,
   "metadata": {},
   "outputs": [],
   "source": [
    "# Total number of training steps is [number of batches] x [number of epochs]. \n",
    "# (Note that this is not the same as the number of training samples).\n",
    "total_steps = len(train_dataloader) * epochs\n",
    "\n",
    "# Create the learning rate scheduler.\n",
    "# This changes the learning rate as the training loop progresses\n",
    "scheduler = get_linear_schedule_with_warmup(optimizer, \n",
    "                                            num_warmup_steps = warmup_steps, \n",
    "                                            num_training_steps = total_steps)"
   ]
  },
  {
   "cell_type": "code",
   "execution_count": 56,
   "metadata": {},
   "outputs": [],
   "source": [
    "def format_time(elapsed):\n",
    "    return str(datetime.timedelta(seconds=int(round((elapsed)))))"
   ]
  },
  {
   "cell_type": "code",
   "execution_count": 57,
   "metadata": {},
   "outputs": [
    {
     "name": "stdout",
     "output_type": "stream",
     "text": [
      "\n",
      "======== Epoch 1 / 2 ========\n",
      "Training...\n"
     ]
    },
    {
     "name": "stderr",
     "output_type": "stream",
     "text": [
      "The attention mask and the pad token id were not set. As a consequence, you may observe unexpected behavior. Please pass your input's `attention_mask` to obtain reliable results.\n",
      "Setting `pad_token_id` to `eos_token_id`:50256 for open-end generation.\n"
     ]
    },
    {
     "name": "stdout",
     "output_type": "stream",
     "text": [
      "  Batch   100  of  2,250. Loss: 0.6253482103347778.   Elapsed: 0:01:38.\n",
      "0:  bipartisan-, yet not only for their experience, but for their much experience in the world as an alien planet on Earth has come into light and gone dark. They will continue their quest for peace and order in an increasingly dangerous pursuit against their warlord and his powerful friends. They must defeat their foes in this epic fantasy adventure that includes elements such as battle skills, character customization and the ability to navigate through the world with its vast array of weapons. Their mission is to gather a great army and deliver the largest military base in the world, to unite humanity in their mission to destroy the aliens. With the ability to maneuver within any terrain, players will have a complete control of his/her abilities, and the abilities of the player. For more complete gameplay you can explore the series from the previous installment.\n",
      " had his hair upon the new week!\n"
     ]
    },
    {
     "name": "stderr",
     "output_type": "stream",
     "text": [
      "The attention mask and the pad token id were not set. As a consequence, you may observe unexpected behavior. Please pass your input's `attention_mask` to obtain reliable results.\n",
      "Setting `pad_token_id` to `eos_token_id`:50256 for open-end generation.\n"
     ]
    },
    {
     "name": "stdout",
     "output_type": "stream",
     "text": [
      "  Batch   200  of  2,250. Loss: 0.8797956705093384.   Elapsed: 0:03:22.\n",
      "0:  increasingThe Sims 4: The Sims 4: The Sims Collection is one of the most critically acclaimed and critically acclaimed video games ever released. Each of the game's most famous characters, as wellmores, have their own unique abilities, abilities and skills, but can also take on additional roles, including managing the family, raising sons, and leading a team. With a vast array of Sims, the Sims 4: The Sims Collection delivers alluring and powerful features.\n"
     ]
    },
    {
     "name": "stderr",
     "output_type": "stream",
     "text": [
      "The attention mask and the pad token id were not set. As a consequence, you may observe unexpected behavior. Please pass your input's `attention_mask` to obtain reliable results.\n",
      "Setting `pad_token_id` to `eos_token_id`:50256 for open-end generation.\n"
     ]
    },
    {
     "name": "stdout",
     "output_type": "stream",
     "text": [
      "  Batch   300  of  2,250. Loss: 0.46562910079956055.   Elapsed: 0:04:58.\n",
      "0: dayTremored delivers new story elements that make it easier to follow the story along with unique endings and a truly exciting action/ combat experience. Each story can be found in a different location, and the action is highly dependent on the player's movements and actions. The original game featured a variety of gameplay elements that were released as downloadable content in a variety of games, including the original game, and the enhanced version of the original version. The inclusion of new features suchaking, biopsies, and more added to the game make it easier to follow the story along. You can find more than 150 more gameplay videos, as well as an updated story, a new storyline and more. With over 35,000+ gameplay videos, you'll have a great experience on the go!\n"
     ]
    },
    {
     "name": "stderr",
     "output_type": "stream",
     "text": [
      "The attention mask and the pad token id were not set. As a consequence, you may observe unexpected behavior. Please pass your input's `attention_mask` to obtain reliable results.\n",
      "Setting `pad_token_id` to `eos_token_id`:50256 for open-end generation.\n"
     ]
    },
    {
     "name": "stdout",
     "output_type": "stream",
     "text": [
      "  Batch   400  of  2,250. Loss: 0.4089544713497162.   Elapsed: 0:06:31.\n",
      "0:  HangThe latest addition to the Xamarin team is The Ultimate Hitman: Winter's Reward. In the new world of Winter's Reward, a man named Paul is on the brink of his doom, attempting to steal the coveted Winter's Reward. When he discovers a girl, she is trapped in an open house where they discover an undercover agent named Red Hand, who is stalking her.\n"
     ]
    },
    {
     "name": "stderr",
     "output_type": "stream",
     "text": [
      "The attention mask and the pad token id were not set. As a consequence, you may observe unexpected behavior. Please pass your input's `attention_mask` to obtain reliable results.\n",
      "Setting `pad_token_id` to `eos_token_id`:50256 for open-end generation.\n"
     ]
    },
    {
     "name": "stdout",
     "output_type": "stream",
     "text": [
      "  Batch   500  of  2,250. Loss: 1.241949439048767.   Elapsed: 0:08:00.\n",
      "0:  foodsThe Sims 4 brings the Sims from the past and present into the world of Rivets. Explore diverse and mysterious environments with over 200 new features including, new interactive challenges, new characters, and more.\n"
     ]
    },
    {
     "name": "stderr",
     "output_type": "stream",
     "text": [
      "The attention mask and the pad token id were not set. As a consequence, you may observe unexpected behavior. Please pass your input's `attention_mask` to obtain reliable results.\n",
      "Setting `pad_token_id` to `eos_token_id`:50256 for open-end generation.\n"
     ]
    },
    {
     "name": "stdout",
     "output_type": "stream",
     "text": [
      "  Batch   600  of  2,250. Loss: 0.21480704843997955.   Elapsed: 0:09:28.\n",
      "0:  trailWhen you jump onto the stage of the critically acclaimed Legend of Zelda: The Wind Waker, you'll travel deep into lush forest, lush dungeons and the surrounding landscapes to find yourself on the moon, which, many, can only be a good thing. Players must master an array of skills in order to explore and colonize a vast world of fantastical landscapes. An epic, dark, and highly interconnected world that also promises to appeal to people who enjoy a Zelda experience. From the outside of the world, players will feel isolated, or even stalked. On top of the world, players will find themselves in the middle. [Nintendo]\n"
     ]
    },
    {
     "name": "stderr",
     "output_type": "stream",
     "text": [
      "The attention mask and the pad token id were not set. As a consequence, you may observe unexpected behavior. Please pass your input's `attention_mask` to obtain reliable results.\n",
      "Setting `pad_token_id` to `eos_token_id`:50256 for open-end generation.\n"
     ]
    },
    {
     "name": "stdout",
     "output_type": "stream",
     "text": [
      "  Batch   700  of  2,250. Loss: 0.7627566456794739.   Elapsed: 0:10:59.\n",
      "0: intendGet ready for the biggest-than-ever Street Fighter vs. Street Fighter vs. UFC UFC on Wii U. The action is as exciting as ever, but it's also packed with tons of fun. Featuring a revolutionary-defining character that sets him apart from the crowd, and an unbeatable crowd full of fans that don't leave him speechless, the first title that debuted on the PlayStation 3 in 2001 has gone on to make for a massive box office success.\n"
     ]
    },
    {
     "name": "stderr",
     "output_type": "stream",
     "text": [
      "The attention mask and the pad token id were not set. As a consequence, you may observe unexpected behavior. Please pass your input's `attention_mask` to obtain reliable results.\n",
      "Setting `pad_token_id` to `eos_token_id`:50256 for open-end generation.\n"
     ]
    },
    {
     "name": "stdout",
     "output_type": "stream",
     "text": [
      "  Batch   800  of  2,250. Loss: 0.38189035654067993.   Elapsed: 0:12:30.\n",
      "0:  surroundAn old friend, a little girl and her mother, first time, caught fire with a flaming sword. The girl, who had fallen in love with the girl, had taken sword to escape the flames, and had been sent back to her own childhood by the woman herself. Now, after a long journey, the girl has become entangled in flames. You must find the girl's father, who has set it free before she has a chance. In this story, each time the girl awakes, her father will have something to offer to her. One night, a young girl left her hometown for a long journey to find her father and find her home back in the heart of a small village. A little girl, who had been missing for a long time, was caught in her father's fiery fire. Now, a little girl will grow up to be a girl, or she will die alone as she struggles in her search for her home. This tale of love and death\n"
     ]
    },
    {
     "name": "stderr",
     "output_type": "stream",
     "text": [
      "The attention mask and the pad token id were not set. As a consequence, you may observe unexpected behavior. Please pass your input's `attention_mask` to obtain reliable results.\n",
      "Setting `pad_token_id` to `eos_token_id`:50256 for open-end generation.\n"
     ]
    },
    {
     "name": "stdout",
     "output_type": "stream",
     "text": [
      "  Batch   900  of  2,250. Loss: 0.37280744314193726.   Elapsed: 0:14:08.\n",
      "0:  reflexThe ultimate sports simulator fromgamer.com.\n"
     ]
    },
    {
     "name": "stderr",
     "output_type": "stream",
     "text": [
      "The attention mask and the pad token id were not set. As a consequence, you may observe unexpected behavior. Please pass your input's `attention_mask` to obtain reliable results.\n",
      "Setting `pad_token_id` to `eos_token_id`:50256 for open-end generation.\n"
     ]
    },
    {
     "name": "stdout",
     "output_type": "stream",
     "text": [
      "  Batch 1,000  of  2,250. Loss: 1.004300832748413.   Elapsed: 0:15:44.\n",
      "0:  display[Xbox Live Arcade] Journey back to the future, ready to experience the return of the golden age of the classic Donkey Kong Country franchise as you traverse a beautifully detailed world of expansive, rewarding action, and colorful adventure. [Electronic Arts]\n"
     ]
    },
    {
     "name": "stderr",
     "output_type": "stream",
     "text": [
      "The attention mask and the pad token id were not set. As a consequence, you may observe unexpected behavior. Please pass your input's `attention_mask` to obtain reliable results.\n",
      "Setting `pad_token_id` to `eos_token_id`:50256 for open-end generation.\n"
     ]
    },
    {
     "name": "stdout",
     "output_type": "stream",
     "text": [
      "  Batch 1,100  of  2,250. Loss: 0.42423543334007263.   Elapsed: 0:17:15.\n",
      "0:  pastorThe world is burning with fire. As one of the largest worldwide nuclear projects in history, the international community must put an end to their nightmare yet again.\n"
     ]
    },
    {
     "name": "stderr",
     "output_type": "stream",
     "text": [
      "The attention mask and the pad token id were not set. As a consequence, you may observe unexpected behavior. Please pass your input's `attention_mask` to obtain reliable results.\n",
      "Setting `pad_token_id` to `eos_token_id`:50256 for open-end generation.\n"
     ]
    },
    {
     "name": "stdout",
     "output_type": "stream",
     "text": [
      "  Batch 1,200  of  2,250. Loss: 0.4896273910999298.   Elapsed: 0:18:43.\n",
      "0:  illicitThe latest addition to the acclaimed \"Dishonored\" series will be a whole new story-driven adventure, set in a futuristic world where people have been given a chance to use the power of the Earth's energybending powers to rebuild society. It will be a dark adventure, which will offer a new perspective and explore the world a little more. The game tells a story which can be divided into three parts: A story which takes place in a time called the future, where people have been trapped in a perpetual war between the humans and the alien gods. A story which places human's greatest power to their advantage, but also to their opposition - this is a time of great stress as mankind has become the world's last hope against the aliens. The next chapter will be a major step forward in the series' history, as a large number of human-made creatures have fallen into deep harmonies and were turned to ash. Some of the creatures have been abandoned, and humanity has been\n"
     ]
    },
    {
     "name": "stderr",
     "output_type": "stream",
     "text": [
      "The attention mask and the pad token id were not set. As a consequence, you may observe unexpected behavior. Please pass your input's `attention_mask` to obtain reliable results.\n",
      "Setting `pad_token_id` to `eos_token_id`:50256 for open-end generation.\n"
     ]
    },
    {
     "name": "stdout",
     "output_type": "stream",
     "text": [
      "  Batch 1,300  of  2,250. Loss: 0.3407631814479828.   Elapsed: 0:20:20.\n",
      "0:  LiberationSet in the midst of the 17th century, Sengoku is a violent side-scrolling action platformer inspired by the popular Japanese anime series of the same name. Players battle to form the strongest warriors among the various military forces and must work together to fend off invading forces. [Capcom]\n"
     ]
    },
    {
     "name": "stderr",
     "output_type": "stream",
     "text": [
      "The attention mask and the pad token id were not set. As a consequence, you may observe unexpected behavior. Please pass your input's `attention_mask` to obtain reliable results.\n",
      "Setting `pad_token_id` to `eos_token_id`:50256 for open-end generation.\n"
     ]
    },
    {
     "name": "stdout",
     "output_type": "stream",
     "text": [
      "  Batch 1,400  of  2,250. Loss: 1.3303678035736084.   Elapsed: 0:21:49.\n",
      "0:  NamA story-driven adventure with all-new action and deep story-telling. The sequel of the original Tales of Yakuza tells you the tale of an unknown girl named Omi. She's orphaned by her mother, Omi of Raccoon City. Omi dies of unknown causes before Omi's final fate becomes known. Omi hopes to find a path to safety. She is living out her childhood dreams, and her death will leave them standing as they are now. [Namco Bandai Games]\n"
     ]
    },
    {
     "name": "stderr",
     "output_type": "stream",
     "text": [
      "The attention mask and the pad token id were not set. As a consequence, you may observe unexpected behavior. Please pass your input's `attention_mask` to obtain reliable results.\n",
      "Setting `pad_token_id` to `eos_token_id`:50256 for open-end generation.\n"
     ]
    },
    {
     "name": "stdout",
     "output_type": "stream",
     "text": [
      "  Batch 1,500  of  2,250. Loss: 0.6725454926490784.   Elapsed: 0:23:21.\n",
      "0: IONThe original PS4 version of Resident Evil 5 lets you run, jump, and shoot your way through environments. With the new features, enhanced graphics, and enhanced physics, you and your enemies can compete against each other in head-to-head competitions in multiple locales on this classic game.\n"
     ]
    },
    {
     "name": "stderr",
     "output_type": "stream",
     "text": [
      "The attention mask and the pad token id were not set. As a consequence, you may observe unexpected behavior. Please pass your input's `attention_mask` to obtain reliable results.\n",
      "Setting `pad_token_id` to `eos_token_id`:50256 for open-end generation.\n"
     ]
    },
    {
     "name": "stdout",
     "output_type": "stream",
     "text": [
      "  Batch 1,600  of  2,250. Loss: 0.39802286028862.   Elapsed: 0:24:50.\n",
      "0:  glimpseThe final chapter in the legendary RPG saga. Follow Kazuma Kiryu Asano as he returns to the peaceful lands of Yuroh, where he must battle mysterious monsters and unravel the mysteries of a mystical village. Join Kazuma Kiryu as he returns to his home country.\n"
     ]
    },
    {
     "name": "stderr",
     "output_type": "stream",
     "text": [
      "The attention mask and the pad token id were not set. As a consequence, you may observe unexpected behavior. Please pass your input's `attention_mask` to obtain reliable results.\n",
      "Setting `pad_token_id` to `eos_token_id`:50256 for open-end generation.\n"
     ]
    },
    {
     "name": "stdout",
     "output_type": "stream",
     "text": [
      "  Batch 1,700  of  2,250. Loss: 0.3501834273338318.   Elapsed: 0:26:19.\n",
      "0:  LaureA brand new chapter in the Spider-Man universe! The universe is in turmoil. The universe has been destroyed. The Spider-Man universe is falling apart. The human population has fallen under total control. The world is in chaos and anarchy. The streets and cities are in a perpetual state of chaos. The streets of New York are being replaced with traffic, drugs, and gangs. And if the streets aren't destroyed, the streets are all the way to hell. And that's just the beginning...The world will not be the same once more...until all the action and chaos are stopped...\n"
     ]
    },
    {
     "name": "stderr",
     "output_type": "stream",
     "text": [
      "The attention mask and the pad token id were not set. As a consequence, you may observe unexpected behavior. Please pass your input's `attention_mask` to obtain reliable results.\n",
      "Setting `pad_token_id` to `eos_token_id`:50256 for open-end generation.\n"
     ]
    },
    {
     "name": "stdout",
     "output_type": "stream",
     "text": [
      "  Batch 1,800  of  2,250. Loss: 1.004011631011963.   Elapsed: 0:29:36.\n",
      "0: ismAs the story unfolds, you'll have your own unique personality, an array of characters and more. Explore, unlock and battle all the characters and bosses before them, then battle yourself. And you can even do a challenge with other heroes and bosses! Challenge your friends online through multiplayer modes, a massive multiplayer community, or even over to the Xbox LIVE Arcade!\n"
     ]
    },
    {
     "name": "stderr",
     "output_type": "stream",
     "text": [
      "The attention mask and the pad token id were not set. As a consequence, you may observe unexpected behavior. Please pass your input's `attention_mask` to obtain reliable results.\n",
      "Setting `pad_token_id` to `eos_token_id`:50256 for open-end generation.\n"
     ]
    },
    {
     "name": "stdout",
     "output_type": "stream",
     "text": [
      "  Batch 1,900  of  2,250. Loss: 0.6066553592681885.   Elapsed: 0:46:28.\n",
      "0: ounTails of Stone, originally released in 2006.\n"
     ]
    },
    {
     "name": "stderr",
     "output_type": "stream",
     "text": [
      "The attention mask and the pad token id were not set. As a consequence, you may observe unexpected behavior. Please pass your input's `attention_mask` to obtain reliable results.\n",
      "Setting `pad_token_id` to `eos_token_id`:50256 for open-end generation.\n"
     ]
    },
    {
     "name": "stdout",
     "output_type": "stream",
     "text": [
      "  Batch 2,000  of  2,250. Loss: 0.5614578127861023.   Elapsed: 0:53:16.\n",
      "0:  electionBe able to build your streetball team from the ground up with your favorite players. From the pros or the streetball lobby to the pros. You have the tools to make your team build or lose the game.\n"
     ]
    },
    {
     "name": "stderr",
     "output_type": "stream",
     "text": [
      "The attention mask and the pad token id were not set. As a consequence, you may observe unexpected behavior. Please pass your input's `attention_mask` to obtain reliable results.\n",
      "Setting `pad_token_id` to `eos_token_id`:50256 for open-end generation.\n"
     ]
    },
    {
     "name": "stdout",
     "output_type": "stream",
     "text": [
      "  Batch 2,100  of  2,250. Loss: 0.5277601480484009.   Elapsed: 0:54:51.\n",
      "0:  crazyIn Deus Ex: Human Revolution, players step into the shoes of Corporal Adam Jensen as he sets out to take up the iconic role of the world's most lethal and feared mercenary. The stakes in Deus Ex: Human Revolution are truly intense, as players must fight in any way they dare to survive. Utilizing real-time strategy and combat, players are tasked with protecting a city, researching new and dangerous technologies, and finding the source of the city's mysterious powers. Combine your team with one of the world's most notorious and lethal mercenary bounty hunters, and uncover the most prestigious and legendary mercenary bounty hunters in history.\n"
     ]
    },
    {
     "name": "stderr",
     "output_type": "stream",
     "text": [
      "The attention mask and the pad token id were not set. As a consequence, you may observe unexpected behavior. Please pass your input's `attention_mask` to obtain reliable results.\n",
      "Setting `pad_token_id` to `eos_token_id`:50256 for open-end generation.\n"
     ]
    },
    {
     "name": "stdout",
     "output_type": "stream",
     "text": [
      "  Batch 2,200  of  2,250. Loss: 0.41833582520484924.   Elapsed: 0:56:31.\n",
      "0:  benchDisco Bam Margera era has hit a new level, as the legendary creator of \"Counter-Strike\" Bill Nastas has been struck by a car as he heads for the hospital to hospital corridors of Bam Margera, California. The car suddenly begins to shift, and the walls of the sprawling hotel are suddenly engulfed in a blackness of fire. The car suddenly stops and suddenly the driver begins to panic and fall unconscious. It is up to theco pilots and a heavy police force to survive. Bam Margera's been overrun by thugs, thugs, and gangsters for weeks now; the city of Bam Margera has been threatened by the city's leaders as they fight for their survival. The government ofLos Angeles has taken down the lawmen, while the city's most elite lawmen and gangsters are locked in an epic struggle. To survive, the U.S. troops must find and capture the killers behind the car, its tires and the deadly bullets\n",
      "\n",
      "  Average training loss: 0.67\n",
      "  Training epoch took: 0:57:26\n",
      "\n",
      "Running Validation...\n",
      "  Validation Loss: 0.52\n",
      "  Validation took: 0:01:03\n",
      "\n",
      "======== Epoch 2 / 2 ========\n",
      "Training...\n"
     ]
    },
    {
     "name": "stderr",
     "output_type": "stream",
     "text": [
      "The attention mask and the pad token id were not set. As a consequence, you may observe unexpected behavior. Please pass your input's `attention_mask` to obtain reliable results.\n",
      "Setting `pad_token_id` to `eos_token_id`:50256 for open-end generation.\n"
     ]
    },
    {
     "name": "stdout",
     "output_type": "stream",
     "text": [
      "  Batch   100  of  2,250. Loss: 0.6122757792472839.   Elapsed: 0:01:34.\n",
      "0:  incorporatedIn the final battle to liberate Moscow, the U.S. Army is sent into the middle of the war where they must take control of all of Moscow from their personal views and objectives to the highest ideals of the Russian Federation. This final stage will allow the Russian Federation to finally rise to leadership, taking control of its destiny and putting a end to the conflict by all means.\n"
     ]
    },
    {
     "name": "stderr",
     "output_type": "stream",
     "text": [
      "The attention mask and the pad token id were not set. As a consequence, you may observe unexpected behavior. Please pass your input's `attention_mask` to obtain reliable results.\n",
      "Setting `pad_token_id` to `eos_token_id`:50256 for open-end generation.\n"
     ]
    },
    {
     "name": "stdout",
     "output_type": "stream",
     "text": [
      "  Batch   200  of  2,250. Loss: 0.27405744791030884.   Elapsed: 0:03:12.\n",
      "0: PeterAs a member of an elite Special Forces group, you must infiltrate a terrorist group and strike in order to destabilize the world. Your mission: infiltrate terrorist organizations and eliminate their leaders. With the latest enhanced graphics and controls, you'll have the upper hand in missions that call for more than just kills.\n"
     ]
    },
    {
     "name": "stderr",
     "output_type": "stream",
     "text": [
      "The attention mask and the pad token id were not set. As a consequence, you may observe unexpected behavior. Please pass your input's `attention_mask` to obtain reliable results.\n",
      "Setting `pad_token_id` to `eos_token_id`:50256 for open-end generation.\n"
     ]
    },
    {
     "name": "stdout",
     "output_type": "stream",
     "text": [
      "  Batch   300  of  2,250. Loss: 0.5646828413009644.   Elapsed: 0:04:44.\n",
      "0: uringDishonored 2: God Among Us is an entirely standalone expansion to Dishonored and includes all of the content from the original Dishonored, Dishonored 2: Sons of Liberty and Dishonored 3: Corruption, all of which are completely standalone and fully-co-operative add-ons, downloadable content and remastered content for all 4 major add-ons.\n"
     ]
    },
    {
     "name": "stderr",
     "output_type": "stream",
     "text": [
      "The attention mask and the pad token id were not set. As a consequence, you may observe unexpected behavior. Please pass your input's `attention_mask` to obtain reliable results.\n",
      "Setting `pad_token_id` to `eos_token_id`:50256 for open-end generation.\n"
     ]
    },
    {
     "name": "stdout",
     "output_type": "stream",
     "text": [
      "  Batch   400  of  2,250. Loss: 0.16473039984703064.   Elapsed: 0:06:22.\n",
      "0:  reproductiveIn DMC: Blood Dragon, a new character created by the legendary designer Ken Levine, takes you through his journey to get back into the vortex of a powerful vortex. [Rockstar Games]\n"
     ]
    },
    {
     "name": "stderr",
     "output_type": "stream",
     "text": [
      "The attention mask and the pad token id were not set. As a consequence, you may observe unexpected behavior. Please pass your input's `attention_mask` to obtain reliable results.\n",
      "Setting `pad_token_id` to `eos_token_id`:50256 for open-end generation.\n"
     ]
    },
    {
     "name": "stdout",
     "output_type": "stream",
     "text": [
      "  Batch   500  of  2,250. Loss: 0.1449114978313446.   Elapsed: 0:07:54.\n",
      "0:  zonePES 2009: Third Person Shooter - Create your own brand of PES 2008, create your own squad, match up with the best in the world, and go head to-head in online tournaments.\n"
     ]
    },
    {
     "name": "stderr",
     "output_type": "stream",
     "text": [
      "The attention mask and the pad token id were not set. As a consequence, you may observe unexpected behavior. Please pass your input's `attention_mask` to obtain reliable results.\n",
      "Setting `pad_token_id` to `eos_token_id`:50256 for open-end generation.\n"
     ]
    },
    {
     "name": "stdout",
     "output_type": "stream",
     "text": [
      "  Batch   600  of  2,250. Loss: 0.36352622509002686.   Elapsed: 0:09:34.\n",
      "0:  commitsAs an elite assassin, you must master the latest and greatest versions of the game's signature fast paced combat, stealth combat, and brutal visual effects. Your mission: kill the henchmen of the Mercenaries, and take down their powerful, mechanized, armored forces. Your skill level: The game offers players the opportunity to level up their character, customize and unlock new perks, weapons and missions throughout the game, or play as a member of the mercenary army as you complete quests, discover secret gadgets, and more. [Activision]\n"
     ]
    },
    {
     "name": "stderr",
     "output_type": "stream",
     "text": [
      "The attention mask and the pad token id were not set. As a consequence, you may observe unexpected behavior. Please pass your input's `attention_mask` to obtain reliable results.\n",
      "Setting `pad_token_id` to `eos_token_id`:50256 for open-end generation.\n"
     ]
    },
    {
     "name": "stdout",
     "output_type": "stream",
     "text": [
      "  Batch   700  of  2,250. Loss: 0.27785229682922363.   Elapsed: 0:11:14.\n",
      "0:  ironyThe Legend of Zelda: Ocarina of Time is the best iteration of the award-winning 2D Zelda franchise, bringing the franchise's trademark Zelda 3D world to a new console. This installment sees Link travel to the wonderful village of Hyrule where his mother, Ocarina, was murdered. Now Link and his friends must travel to the beautifully animated village to save the girl. Featuring beautifully rendered graphics and the largest in-game 3D scene to date, Ocarina of Time takes the acclaimed Zelda franchise into new and unexplored areas while continuing the franchise's trademark themes and gameplay. Features: * The Legend of Zelda: Ocarina of Time features both traditional Zelda 3D world and a new story that unfolds over four distinct worlds! The adventure spans three different campaigns including The Legend of Zelda: Ocarina of Time, The Legend of Zelda: Ocarina of Time Quest and The Legend of Zelda: Ocarina of Time: Epilogues. * This\n"
     ]
    },
    {
     "name": "stderr",
     "output_type": "stream",
     "text": [
      "The attention mask and the pad token id were not set. As a consequence, you may observe unexpected behavior. Please pass your input's `attention_mask` to obtain reliable results.\n",
      "Setting `pad_token_id` to `eos_token_id`:50256 for open-end generation.\n"
     ]
    },
    {
     "name": "stdout",
     "output_type": "stream",
     "text": [
      "  Batch   800  of  2,250. Loss: 0.14461924135684967.   Elapsed: 0:13:00.\n",
      "0:  Sah(Also known as \"Atelier Biel\") A bielish adventure for 2 to 4 players. It is a puzzle game, with the game as its own separate entertainment option, rather than a single game for those who do not mind playing together. Each player is assigned his own deck, and each player's card, when playing, can only be solved by one player. [Atelier Biel]\n"
     ]
    },
    {
     "name": "stderr",
     "output_type": "stream",
     "text": [
      "The attention mask and the pad token id were not set. As a consequence, you may observe unexpected behavior. Please pass your input's `attention_mask` to obtain reliable results.\n",
      "Setting `pad_token_id` to `eos_token_id`:50256 for open-end generation.\n"
     ]
    },
    {
     "name": "stdout",
     "output_type": "stream",
     "text": [
      "  Batch   900  of  2,250. Loss: 0.5860642194747925.   Elapsed: 0:14:38.\n",
      "0:  BryanTiger Woods Comes Alive To The Game For The PSP system! Play through all the action from round-robin or multi-player matches to the end of the round, or go head to head with Tiger Woods and Ben Hogan on ESPN. New features: Match-Up Styles -- Use your custom game styles to match each other's gameplay styles. Game modes such as Tiger Woods PGA Tour, Golf Challenge, and Mini-Camp -- Take on all the biggest TOUR players including Tiger Woods, John Daly, Vijay Singh, and Annika Sorenstam on the PSP system. [EA Sports]\n"
     ]
    },
    {
     "name": "stderr",
     "output_type": "stream",
     "text": [
      "The attention mask and the pad token id were not set. As a consequence, you may observe unexpected behavior. Please pass your input's `attention_mask` to obtain reliable results.\n",
      "Setting `pad_token_id` to `eos_token_id`:50256 for open-end generation.\n"
     ]
    },
    {
     "name": "stdout",
     "output_type": "stream",
     "text": [
      "  Batch 1,000  of  2,250. Loss: 0.6360682845115662.   Elapsed: 0:16:15.\n",
      "0:  spiritsFIFA Soccer 06: Total Football Manager brings you complete control in the deepest Franchise Mode ever. Watch your game play out of the box from start to finish in the All-Time Time Tourney or take your rivalries to the next level in Franchise Mode!\n"
     ]
    },
    {
     "name": "stderr",
     "output_type": "stream",
     "text": [
      "The attention mask and the pad token id were not set. As a consequence, you may observe unexpected behavior. Please pass your input's `attention_mask` to obtain reliable results.\n",
      "Setting `pad_token_id` to `eos_token_id`:50256 for open-end generation.\n"
     ]
    },
    {
     "name": "stdout",
     "output_type": "stream",
     "text": [
      "  Batch 1,100  of  2,250. Loss: 0.33840489387512207.   Elapsed: 0:17:51.\n",
      "0:  seesExperience the speed and power of the PS3’s speed machines as you become a world-class driver – or a street racer. With new physics-driven cars, powerful rally courses and incredible Hollywood-style camera angles, the PS3’s fast, air-speed visuals and unique physics will bring you closer to your target audience.\n"
     ]
    },
    {
     "name": "stderr",
     "output_type": "stream",
     "text": [
      "The attention mask and the pad token id were not set. As a consequence, you may observe unexpected behavior. Please pass your input's `attention_mask` to obtain reliable results.\n",
      "Setting `pad_token_id` to `eos_token_id`:50256 for open-end generation.\n"
     ]
    },
    {
     "name": "stdout",
     "output_type": "stream",
     "text": [
      "  Batch 1,200  of  2,250. Loss: 0.46117261052131653.   Elapsed: 0:19:25.\n",
      "0:  hungry[Downloadable Content] For the first time ever, the first-ever online gameplay of Madden NFL 2003, players step into the role of Madden NFL 2003, earning special status as they play through the life of the game and their team, earning player of the year awards, awards, and endorsements. NFL 2003 also includes all-new Franchise Mode that challenges the player's skill levels in order to win. Players now have the option to play in Franchise Mode to begin their careers in Franchise mode, which rewards players for their performance, which rewards them for their outstanding performance. [Electronic Arts]\n"
     ]
    },
    {
     "name": "stderr",
     "output_type": "stream",
     "text": [
      "The attention mask and the pad token id were not set. As a consequence, you may observe unexpected behavior. Please pass your input's `attention_mask` to obtain reliable results.\n",
      "Setting `pad_token_id` to `eos_token_id`:50256 for open-end generation.\n"
     ]
    },
    {
     "name": "stdout",
     "output_type": "stream",
     "text": [
      "  Batch 1,300  of  2,250. Loss: 0.23374949395656586.   Elapsed: 0:21:04.\n",
      "0:  PTFIFA Soccer 17 kicks off in prestige gear, but in its 11th installment you will learn a lot more about the world of football and will take full advantage of the game modes, the depth and realism of next generation consoles, and a host of other key features to become the undisputed soccer star of the future.\n"
     ]
    },
    {
     "name": "stderr",
     "output_type": "stream",
     "text": [
      "The attention mask and the pad token id were not set. As a consequence, you may observe unexpected behavior. Please pass your input's `attention_mask` to obtain reliable results.\n",
      "Setting `pad_token_id` to `eos_token_id`:50256 for open-end generation.\n"
     ]
    },
    {
     "name": "stdout",
     "output_type": "stream",
     "text": [
      "  Batch 1,400  of  2,250. Loss: 0.10984547436237335.   Elapsed: 0:22:39.\n",
      "0: üIt’s a simple, funny sci-fi game from the minds of people who are already good at it! Take on a role of an alien bounty hunter and take control of bounty hunter-turned-fugitive Sam Fisher. Play as Sam Fisher as he discovers new alien technologies, discover valuable resources, and harness them in new mission-based gameplay.\n"
     ]
    },
    {
     "name": "stderr",
     "output_type": "stream",
     "text": [
      "The attention mask and the pad token id were not set. As a consequence, you may observe unexpected behavior. Please pass your input's `attention_mask` to obtain reliable results.\n",
      "Setting `pad_token_id` to `eos_token_id`:50256 for open-end generation.\n"
     ]
    },
    {
     "name": "stdout",
     "output_type": "stream",
     "text": [
      "  Batch 1,500  of  2,250. Loss: 0.13248759508132935.   Elapsed: 0:24:21.\n",
      "0: ruceThe sequel to the popular smash hit franchise returns in 3.5D with stunning new visual and gameplay improvements and an all-new level of realism. The game features a robust multiplayer experience, massive, robust gameplay, a vibrant city, and an all-new level of realism. All three of those elements put you at the center of the action. A huge selection of online gameplay comes with new cooperative play, a new power-ups, and in-game achievements. New vehicles come with new weapons (like the modified giant tank, used in the Super Mario Bros. series for destruction), and new stages and stages to conquer. The gameplay upgrades the Super Mario Bros. series to include: 2vs2 tag (for the first time ever) * More speed than ever in a brand-new arcade action game * New enemies for fun! * New stages to conquer and unlock\n"
     ]
    },
    {
     "name": "stderr",
     "output_type": "stream",
     "text": [
      "The attention mask and the pad token id were not set. As a consequence, you may observe unexpected behavior. Please pass your input's `attention_mask` to obtain reliable results.\n",
      "Setting `pad_token_id` to `eos_token_id`:50256 for open-end generation.\n"
     ]
    },
    {
     "name": "stdout",
     "output_type": "stream",
     "text": [
      "  Batch 1,600  of  2,250. Loss: 0.3153027594089508.   Elapsed: 0:26:03.\n",
      "0:  derivativesA 3rd person, first person sci-fi role-playing game. A mad scientist named Billie Lurk must unravel this ancient mystery to help solve the mystery surrounding the mysterious disappearance of Billie Lurk. Features: * 8-player split-screen ‘Game-Based Adventure**! * 2D ‘Mystery’! * Multiplayer ‘Command & Conquer”! * Visuals that are easy to see in-game * Soundtrack by Jaren Grob * Soundtrack by Tim Schafer * Features: * Awesome, original, first person sci-fi action RPG! * Alternate dimensions! * Alternate voice cast! * High-quality score composed by Tim Schafer * Music by Mark Ronson\n"
     ]
    },
    {
     "name": "stderr",
     "output_type": "stream",
     "text": [
      "The attention mask and the pad token id were not set. As a consequence, you may observe unexpected behavior. Please pass your input's `attention_mask` to obtain reliable results.\n",
      "Setting `pad_token_id` to `eos_token_id`:50256 for open-end generation.\n"
     ]
    },
    {
     "name": "stdout",
     "output_type": "stream",
     "text": [
      "  Batch 1,700  of  2,250. Loss: 0.1640375852584839.   Elapsed: 0:27:42.\n",
      "0: \u0019Swing through a sandstorm, a storm of explosions and explosions, and an endless stream of mutants, you will fight your way through this incredibly dangerous city. You will face a deadly criminal force bent on revenge. You will face otherworldly creatures that have mutated into hideousstrosities. You will do everything in your power to stay alive, even if it means risking life itself. The more you fight, the more the city becomes your playground. After a series of events, you discover that the evil that spreads through society has begun to take its toll. After being brought to grips with the truth, you must fight your way through the chaos to survive, and you must also learn how to survive in order to protect what you leave behind.\n"
     ]
    },
    {
     "name": "stderr",
     "output_type": "stream",
     "text": [
      "The attention mask and the pad token id were not set. As a consequence, you may observe unexpected behavior. Please pass your input's `attention_mask` to obtain reliable results.\n",
      "Setting `pad_token_id` to `eos_token_id`:50256 for open-end generation.\n"
     ]
    },
    {
     "name": "stdout",
     "output_type": "stream",
     "text": [
      "  Batch 1,800  of  2,250. Loss: 0.1956467628479004.   Elapsed: 0:29:25.\n",
      "0:  rememberingAn action/adventure game set in an open world inspired by European civilization. Explore an interconnected world where you can explore all aspects of the world to solve puzzles and uncover ancient mysteries. Take your skills up a notch as you traverse a wide variety of challenging environments using a variety of items and weapons.\n"
     ]
    },
    {
     "name": "stderr",
     "output_type": "stream",
     "text": [
      "The attention mask and the pad token id were not set. As a consequence, you may observe unexpected behavior. Please pass your input's `attention_mask` to obtain reliable results.\n",
      "Setting `pad_token_id` to `eos_token_id`:50256 for open-end generation.\n"
     ]
    },
    {
     "name": "stdout",
     "output_type": "stream",
     "text": [
      "  Batch 1,900  of  2,250. Loss: 0.2853393256664276.   Elapsed: 0:30:59.\n",
      "0:  SourcesGomez must stop \"El Presidente\" with the powerful \"Diablo III\" in order to save the world of Pandora from evil Lord Of Darkness. The story, written by award-winning developer Red Dead Redemption, transports gamers to a world where the choices players make in the end have significant consequences: they determine the fate of the world. Gomez is an action gamer, in his early 20s, who lives in a small Wyoming town. His family has recently fallen to a brutal disease, and Gomez is aivated by a relentless quest for revenge against his arch nemesis, El Presidente. Gomez must overcome a growing army of evil and unravel the dark plot of the Third Reich.\n"
     ]
    },
    {
     "name": "stderr",
     "output_type": "stream",
     "text": [
      "The attention mask and the pad token id were not set. As a consequence, you may observe unexpected behavior. Please pass your input's `attention_mask` to obtain reliable results.\n",
      "Setting `pad_token_id` to `eos_token_id`:50256 for open-end generation.\n"
     ]
    },
    {
     "name": "stdout",
     "output_type": "stream",
     "text": [
      "  Batch 2,000  of  2,250. Loss: 0.09608664363622665.   Elapsed: 0:32:44.\n",
      "0: emsThe last chapter in the Life of Max Payne series unfolds when Max is framed by a ruthless thief for a murder he didn't commit. When his only hope of getting free falls to a ruthless assassin, Max must set out to free the city he murdered. Utilizing the PlayStation 4's unique 3D Touch controls, players can now aim and cross the street to kill as they navigate a roster of blood-thirsty murders. This third-person action RPG features a robust world, diverse weapons, and the ultimate killer.\n"
     ]
    },
    {
     "name": "stderr",
     "output_type": "stream",
     "text": [
      "The attention mask and the pad token id were not set. As a consequence, you may observe unexpected behavior. Please pass your input's `attention_mask` to obtain reliable results.\n",
      "Setting `pad_token_id` to `eos_token_id`:50256 for open-end generation.\n"
     ]
    },
    {
     "name": "stdout",
     "output_type": "stream",
     "text": [
      "  Batch 2,100  of  2,250. Loss: 0.3885467052459717.   Elapsed: 0:34:24.\n",
      "0: tzMotoGP 13 pits you against the world’s best racers and riders on two wheels. Drive off the road and onto the mountain roads, either as a female rider or a male. Race at over 70 of the world’s top riders and collect over 350,000 new MotoGP trophies. Collect the same amount as the original game and work your way up the mountain to earn a spot on the top 100.\n"
     ]
    },
    {
     "name": "stderr",
     "output_type": "stream",
     "text": [
      "The attention mask and the pad token id were not set. As a consequence, you may observe unexpected behavior. Please pass your input's `attention_mask` to obtain reliable results.\n",
      "Setting `pad_token_id` to `eos_token_id`:50256 for open-end generation.\n"
     ]
    },
    {
     "name": "stdout",
     "output_type": "stream",
     "text": [
      "  Batch 2,200  of  2,250. Loss: 0.3051517903804779.   Elapsed: 0:36:01.\n",
      "0: maticIn Resident Evil 7 biohazard, Capcom and the people who created the original Resident Evil series are rewarded with a new story arc, a new action hero, and much more. Years after the events seen in the original Resident Evil, Chris Redfield is sent on a killing hunt. He must take on new characters, use their skills, and survive as the hunt intensifies. Set in a world that rewrites each time Resident Evil is played, Biohazard is a new way to experience the original game. In Resident Evil 7 biohazard, players assume the role of Chris Redfield, returning Resident Evil hero Chris Redfield, who is now known as Raiden. The fate of mankind rests in the hands of Chris Redfield, who has rebelled against the corrupt and ruthless corporate tyrants that frame him. A chance encounter with Raiden offers an opportunity to rejoin him on the world he inhabits.\n",
      "\n",
      "  Average training loss: 0.43\n",
      "  Training epoch took: 0:36:55\n",
      "\n",
      "Running Validation...\n",
      "  Validation Loss: 0.48\n",
      "  Validation took: 0:01:01\n",
      "\n",
      "Training complete!\n",
      "Total training took 1:36:26 (h:mm:ss)\n"
     ]
    }
   ],
   "source": [
    "total_t0 = time.time()\n",
    "\n",
    "training_stats = []\n",
    "\n",
    "model = model.to(device)\n",
    "\n",
    "for epoch_i in range(0, epochs):\n",
    "\n",
    "    # ========================================\n",
    "    #               Training\n",
    "    # ========================================\n",
    "\n",
    "    print(\"\")\n",
    "    print('======== Epoch {:} / {:} ========'.format(epoch_i + 1, epochs))\n",
    "    print('Training...')\n",
    "\n",
    "    t0 = time.time()\n",
    "\n",
    "    total_train_loss = 0\n",
    "\n",
    "    model.train()\n",
    "\n",
    "    for step, batch in enumerate(train_dataloader):\n",
    "\n",
    "        b_input_ids = batch[0].to(device)\n",
    "        b_labels = batch[0].to(device)\n",
    "        b_masks = batch[1].to(device)\n",
    "\n",
    "        model.zero_grad()        \n",
    "\n",
    "        outputs = model(  b_input_ids,\n",
    "                          labels=b_labels, \n",
    "                          attention_mask = b_masks,\n",
    "                          token_type_ids=None\n",
    "                        )\n",
    "\n",
    "        loss = outputs[0]  \n",
    "\n",
    "        batch_loss = loss.item()\n",
    "        total_train_loss += batch_loss\n",
    "\n",
    "        # Get sample every x batches.\n",
    "        if step % sample_every == 0 and not step == 0:\n",
    "\n",
    "            elapsed = format_time(time.time() - t0)\n",
    "            print('  Batch {:>5,}  of  {:>5,}. Loss: {:>5,}.   Elapsed: {:}.'.format(step, len(train_dataloader), batch_loss, elapsed))\n",
    "\n",
    "            model.eval()\n",
    "\n",
    "            sample_outputs = model.generate(\n",
    "                                    bos_token_id=random.randint(1,30000),\n",
    "                                    do_sample=True,   \n",
    "                                    top_k=50, \n",
    "                                    max_length = 200,\n",
    "                                    top_p=0.95, \n",
    "                                    num_return_sequences=1\n",
    "                                )\n",
    "            for i, sample_output in enumerate(sample_outputs):\n",
    "                  print(\"{}: {}\".format(i, tokenizer.decode(sample_output, skip_special_tokens=True)))\n",
    "            \n",
    "            model.train()\n",
    "\n",
    "        loss.backward()\n",
    "\n",
    "        optimizer.step()\n",
    "\n",
    "        scheduler.step()\n",
    "\n",
    "    # Calculate the average loss over all of the batches.\n",
    "    avg_train_loss = total_train_loss / len(train_dataloader)       \n",
    "    \n",
    "    # Measure how long this epoch took.\n",
    "    training_time = format_time(time.time() - t0)\n",
    "\n",
    "    print(\"\")\n",
    "    print(\"  Average training loss: {0:.2f}\".format(avg_train_loss))\n",
    "    print(\"  Training epoch took: {:}\".format(training_time))\n",
    "        \n",
    "    # ========================================\n",
    "    #               Validation\n",
    "    # ========================================\n",
    "\n",
    "    print(\"\")\n",
    "    print(\"Running Validation...\")\n",
    "\n",
    "    t0 = time.time()\n",
    "\n",
    "    model.eval()\n",
    "\n",
    "    total_eval_loss = 0\n",
    "    nb_eval_steps = 0\n",
    "\n",
    "    # Evaluate data for one epoch\n",
    "    for batch in validation_dataloader:\n",
    "        \n",
    "        b_input_ids = batch[0].to(device)\n",
    "        b_labels = batch[0].to(device)\n",
    "        b_masks = batch[1].to(device)\n",
    "        \n",
    "        with torch.no_grad():        \n",
    "\n",
    "            outputs  = model(b_input_ids, \n",
    "#                            token_type_ids=None, \n",
    "                             attention_mask = b_masks,\n",
    "                            labels=b_labels)\n",
    "          \n",
    "            loss = outputs[0]  \n",
    "            \n",
    "        batch_loss = loss.item()\n",
    "        total_eval_loss += batch_loss        \n",
    "\n",
    "    avg_val_loss = total_eval_loss / len(validation_dataloader)\n",
    "    \n",
    "    validation_time = format_time(time.time() - t0)    \n",
    "\n",
    "    print(\"  Validation Loss: {0:.2f}\".format(avg_val_loss))\n",
    "    print(\"  Validation took: {:}\".format(validation_time))\n",
    "\n",
    "    # Record all statistics from this epoch.\n",
    "    training_stats.append(\n",
    "        {\n",
    "            'epoch': epoch_i + 1,\n",
    "            'Training Loss': avg_train_loss,\n",
    "            'Valid. Loss': avg_val_loss,\n",
    "            'Training Time': training_time,\n",
    "            'Validation Time': validation_time\n",
    "        }\n",
    "    )\n",
    "\n",
    "print(\"\")\n",
    "print(\"Training complete!\")\n",
    "print(\"Total training took {:} (h:mm:ss)\".format(format_time(time.time()-total_t0)))"
   ]
  },
  {
   "cell_type": "code",
   "execution_count": 60,
   "metadata": {},
   "outputs": [
    {
     "name": "stdout",
     "output_type": "stream",
     "text": [
      "Saving model to ./model_save/\n"
     ]
    },
    {
     "data": {
      "text/plain": [
       "('./model_save/tokenizer_config.json',\n",
       " './model_save/special_tokens_map.json',\n",
       " './model_save/vocab.json',\n",
       " './model_save/merges.txt',\n",
       " './model_save/added_tokens.json')"
      ]
     },
     "execution_count": 60,
     "metadata": {},
     "output_type": "execute_result"
    }
   ],
   "source": [
    "# Saving best-practices: if you use defaults names for the model, you can reload it using from_pretrained()\n",
    "\n",
    "output_dir = './model_save/'\n",
    "\n",
    "# Create output directory if needed\n",
    "if not os.path.exists(output_dir):\n",
    "    os.makedirs(output_dir)\n",
    "\n",
    "print(\"Saving model to %s\" % output_dir)\n",
    "\n",
    "# Save a trained model, configuration and tokenizer using `save_pretrained()`.\n",
    "# They can then be reloaded using `from_pretrained()`\n",
    "model_to_save = model.module if hasattr(model, 'module') else model  # Take care of distributed/parallel training\n",
    "model_to_save.save_pretrained(output_dir)\n",
    "tokenizer.save_pretrained(output_dir)"
   ]
  },
  {
   "cell_type": "code",
   "execution_count": 61,
   "metadata": {},
   "outputs": [
    {
     "name": "stderr",
     "output_type": "stream",
     "text": [
      "The attention mask and the pad token id were not set. As a consequence, you may observe unexpected behavior. Please pass your input's `attention_mask` to obtain reliable results.\n",
      "Setting `pad_token_id` to `eos_token_id`:50256 for open-end generation.\n"
     ]
    },
    {
     "name": "stdout",
     "output_type": "stream",
     "text": [
      "tensor([[50257]], device='mps:0')\n",
      "0: From the creators of \"Batman\" comes \"Batman: Arkham City.\" Batman: Arkham City builds upon the intense pre-War action of the Batman universe, offering an even more compelling and expansive story with a mission to bring a new and powerful threat to Gotham City, and featuring an extensive array of characters to aid one of several outcomes. The game is set several years after the events of \"Guardians of the Galaxy.\" This means that the game has a much more expansive scope, allowing for an enhanced game play experience, and will allow players to delve into the larger, more expansive game world more easily, as well as the many sandbox areas to explore. There will also be a massive and dynamic story mode, allowing players to unravel the mysteries of the city, and uncover the dark secrets of the Dark Knight's past. The game introduces a host of new gameplay elements, including \"Jump-Ass,\" a playable character who jumps and jumps into vehicles to help execute devastating moves, allowing players to perform a variety of specialized takedowns and cajole opponents into submission and quick death matches. Additionally, the game introduces several new vehicles, including the highly prized \"Guardian's Booty\" from \"Dark Knight\" and \"Infested\" vehicle from \"Batman\" and \"Guardian’s Booty.\" [2K Games]\n",
      "\n",
      "\n",
      "1: The year is 2034. An elite secret society's notorious leaders have been detected and taken over by the enigmatic Dark Lords of the Void. Our heroes need to make a new beginning, discover the dark origins of the Void and end this scourge.\n",
      "\n",
      "\n",
      "2: Bastion is an action game in the vein of Robert Kirkman's award-winning series and brings players into the role of Bastion, a young warrior who discovers the mysterious power of magic. His quest to save his people has thrown him into the world of Barbaria, a besieged world of demonic forces under the shadow of the dark god Bane, and has taken him on an epic journey through a world full of distractions and dangers. Players will employ deadly attacks and strategies against powerful enemies across dozens of challenging world types and expansive landscapes. Bastion offers a range of challenging modes for players to engage in combat, including side-scrolling battles with deadly enemies, and single-player challenges that offer continuous gameplay. Multiplayer is also included that delivers deep and compelling cooperative gameplay as players face each other in real-time. [BioWare]\n",
      "\n",
      "\n"
     ]
    }
   ],
   "source": [
    "model.eval()\n",
    "\n",
    "prompt = \"<|startoftext|>\"\n",
    "\n",
    "generated = torch.tensor(tokenizer.encode(prompt)).unsqueeze(0)\n",
    "generated = generated.to(device)\n",
    "\n",
    "print(generated)\n",
    "\n",
    "sample_outputs = model.generate(\n",
    "                                generated, \n",
    "                                #bos_token_id=random.randint(1,30000),\n",
    "                                do_sample=True,   \n",
    "                                top_k=50, \n",
    "                                max_length = 300,\n",
    "                                top_p=0.95, \n",
    "                                num_return_sequences=3\n",
    "                                )\n",
    "\n",
    "for i, sample_output in enumerate(sample_outputs):\n",
    "  print(\"{}: {}\\n\\n\".format(i, tokenizer.decode(sample_output, skip_special_tokens=True)))"
   ]
  }
 ],
 "metadata": {
  "kernelspec": {
   "display_name": "Python 3",
   "language": "python",
   "name": "python3"
  },
  "language_info": {
   "codemirror_mode": {
    "name": "ipython",
    "version": 3
   },
   "file_extension": ".py",
   "mimetype": "text/x-python",
   "name": "python",
   "nbconvert_exporter": "python",
   "pygments_lexer": "ipython3",
   "version": "3.12.2"
  }
 },
 "nbformat": 4,
 "nbformat_minor": 2
}
